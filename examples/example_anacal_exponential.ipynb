{
 "cells": [
  {
   "cell_type": "code",
   "execution_count": 1,
   "metadata": {},
   "outputs": [],
   "source": [
    "import numpy as np\n",
    "import matplotlib.pyplot as plt\n",
    "import anacal\n",
    "from deep_anacal import simulate, utils\n",
    "%load_ext autoreload\n",
    "%autoreload 2"
   ]
  },
  {
   "cell_type": "code",
   "execution_count": 2,
   "metadata": {},
   "outputs": [],
   "source": [
    "seed = 2\n",
    "ngrid = 64\n",
    "nstamp = 100\n",
    "ny = ngrid * nstamp\n",
    "nx = ngrid * nstamp\n",
    "scale = 0.2\n",
    "indx = np.arange(ngrid // 2, ngrid * nstamp, ngrid)\n",
    "indy = np.arange(ngrid // 2, ngrid * nstamp, ngrid)\n",
    "ns = len(indx) * len(indy)\n",
    "inds = np.meshgrid(indy, indx, indexing=\"ij\")\n",
    "yx = np.vstack([np.ravel(_) for _ in inds])\n",
    "dtype = np.dtype(\n",
    "    [\n",
    "        (\"y\", np.int32),\n",
    "        (\"x\", np.int32),\n",
    "        (\"is_peak\", np.int32),\n",
    "        (\"mask_value\", np.int32),\n",
    "    ]\n",
    ")\n",
    "detection = np.empty(ns, dtype=dtype)\n",
    "detection[\"y\"] = yx[0]\n",
    "detection[\"x\"] = yx[1]\n",
    "detection[\"is_peak\"] = np.ones(ns)\n",
    "detection[\"mask_value\"] = np.zeros(ns)"
   ]
  },
  {
   "cell_type": "code",
   "execution_count": 3,
   "metadata": {},
   "outputs": [],
   "source": [
    "acal_res = []\n",
    "fpfs_config = anacal.fpfs.FpfsConfig(\n",
    "    sigma_arcsec=0.52\n",
    ")\n",
    "noise_std = 1e-3\n",
    "for shear in [0.02, -0.02]:\n",
    "    gal_array, psf_array, noise_std, img_noise, noise_array = simulate.simulate_exponential(\n",
    "        seed=seed,\n",
    "        ngrid=ngrid,\n",
    "        ny=ny,\n",
    "        nx=nx,\n",
    "        scale=scale,\n",
    "        g1=shear,\n",
    "        g2=0.0,\n",
    "        s2n=1e5\n",
    "    )\n",
    "    acal_res.append(\n",
    "        anacal.fpfs.process_image(\n",
    "            fpfs_config=fpfs_config,\n",
    "            mag_zero=30.0,\n",
    "            gal_array=gal_array,\n",
    "            psf_array=psf_array,\n",
    "            pixel_scale=scale,\n",
    "            noise_variance=noise_std**2,\n",
    "            noise_array=None,\n",
    "            detection=detection,\n",
    "        )\n",
    "    )"
   ]
  },
  {
   "cell_type": "code",
   "execution_count": 4,
   "metadata": {},
   "outputs": [
    {
     "data": {
      "text/plain": [
       "<matplotlib.image.AxesImage at 0x18c583ed0>"
      ]
     },
     "execution_count": 4,
     "metadata": {},
     "output_type": "execute_result"
    },
    {
     "data": {
      "image/png": "[encoded data removed]",
      "text/plain": [
       "<Figure size 640x480 with 1 Axes>"
      ]
     },
     "metadata": {},
     "output_type": "display_data"
    }
   ],
   "source": [
    "plt.imshow(gal_array[:64*4, :64*4] + img_noise[:64*4, :64*4])"
   ]
  },
  {
   "cell_type": "code",
   "execution_count": 5,
   "metadata": {},
   "outputs": [
    {
     "name": "stdout",
     "output_type": "stream",
     "text": [
      "m: 0.621624 [1e-3]\n",
      "c: 0.000224 [1e-4]\n"
     ]
    }
   ],
   "source": [
    "mbias, cbias = utils.compute_m_and_c(wacal_res=acal_res, dacal_res=acal_res, force_detection=True)\n",
    "print(\"m: %f [1e-3]\" % (mbias/1e-3), flush=True)\n",
    "print(\"c: %f [1e-4]\" % (cbias/1e-4), flush=True)"
   ]
  },
  {
   "cell_type": "code",
   "execution_count": null,
   "metadata": {},
   "outputs": [],
   "source": []
  }
 ],
 "metadata": {
  "kernelspec": {
   "display_name": "Python 3",
   "language": "python",
   "name": "python3"
  },
  "language_info": {
   "codemirror_mode": {
    "name": "ipython",
    "version": 3
   },
   "file_extension": ".py",
   "mimetype": "text/x-python",
   "name": "python",
   "nbconvert_exporter": "python",
   "pygments_lexer": "ipython3",
   "version": "3.11.10"
  }
 },
 "nbformat": 4,
 "nbformat_minor": 2
}
