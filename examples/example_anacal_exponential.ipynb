{
 "cells": [
  {
   "cell_type": "code",
   "execution_count": 1,
   "metadata": {},
   "outputs": [],
   "source": [
    "import numpy as np\n",
    "import matplotlib.pyplot as plt\n",
    "import anacal\n",
    "from deep_anacal import simulate, utils\n",
    "%load_ext autoreload\n",
    "%autoreload 2"
   ]
  },
  {
   "cell_type": "code",
   "execution_count": 2,
   "metadata": {},
   "outputs": [],
   "source": [
    "seed = 2\n",
    "ngrid = 64\n",
    "scale = 0.2\n",
    "indx = [32]\n",
    "indy = [32]\n",
    "ns = len(indx) * len(indy)\n",
    "inds = np.meshgrid(indy, indx, indexing=\"ij\")\n",
    "yx = np.vstack([np.ravel(_) for _ in inds])\n",
    "dtype = np.dtype(\n",
    "    [\n",
    "        (\"y\", np.int32),\n",
    "        (\"x\", np.int32),\n",
    "        (\"is_peak\", np.int32),\n",
    "        (\"mask_value\", np.int32),\n",
    "    ]\n",
    ")\n",
    "detection = np.empty(ns, dtype=dtype)\n",
    "detection[\"y\"] = yx[0]\n",
    "detection[\"x\"] = yx[1]\n",
    "detection[\"is_peak\"] = np.ones(ns)\n",
    "detection[\"mask_value\"] = np.zeros(ns)"
   ]
  },
  {
   "cell_type": "code",
   "execution_count": 3,
   "metadata": {},
   "outputs": [],
   "source": [
    "acal_res = []\n",
    "fpfs_config = anacal.fpfs.FpfsConfig(\n",
    "    sigma_arcsec=0.52\n",
    ")\n",
    "noise_std = 1e-3\n",
    "for shear in [0.02, -0.02]:\n",
    "    gal_array, psf_array = simulate.simulate_exponential(\n",
    "        seed=seed,\n",
    "        ngrid=ngrid,\n",
    "        scale=scale,\n",
    "        g1=shear,\n",
    "        g2=0.0,\n",
    "    )\n",
    "    acal_res.append(\n",
    "        anacal.fpfs.process_image(\n",
    "            fpfs_config=fpfs_config,\n",
    "            mag_zero=30.0,\n",
    "            gal_array=gal_array,\n",
    "            psf_array=psf_array,\n",
    "            pixel_scale=scale,\n",
    "            noise_variance=noise_std**2,\n",
    "            noise_array=None,\n",
    "            detection=detection,\n",
    "        )\n",
    "    )"
   ]
  },
  {
   "cell_type": "code",
   "execution_count": 4,
   "metadata": {},
   "outputs": [
    {
     "name": "stdout",
     "output_type": "stream",
     "text": [
      "m: 0.621624 [1e-3]\n",
      "c: 0.000224 [1e-4]\n"
     ]
    }
   ],
   "source": [
    "ep, Rp, em, Rm = utils.get_e_R(wacal_res=acal_res, dacal_res=acal_res, force_detection=True)\n",
    "m, merr, c, cerr = utils.compute_m_and_c(\n",
    "    e_plus=np.sum(ep),\n",
    "    R_plus=np.sum(Rp),\n",
    "    e_minus=np.sum(em),\n",
    "    R_minus=np.sum(Rm),\n",
    ")\n",
    "print(\"m: %f [1e-3]\" % (m/1e-3), flush=True)\n",
    "print(\"c: %f [1e-4]\" % (c/1e-4), flush=True)"
   ]
  },
  {
   "cell_type": "code",
   "execution_count": null,
   "metadata": {},
   "outputs": [],
   "source": []
  }
 ],
 "metadata": {
  "kernelspec": {
   "display_name": "Python 3",
   "language": "python",
   "name": "python3"
  },
  "language_info": {
   "codemirror_mode": {
    "name": "ipython",
    "version": 3
   },
   "file_extension": ".py",
   "mimetype": "text/x-python",
   "name": "python",
   "nbconvert_exporter": "python",
   "pygments_lexer": "ipython3",
   "version": "3.11.0"
  }
 },
 "nbformat": 4,
 "nbformat_minor": 2
}
